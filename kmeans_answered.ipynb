{
  "cells": [
    {
      "cell_type": "markdown",
      "metadata": {
        "id": "view-in-github",
        "colab_type": "text"
      },
      "source": [
        "<a href=\"https://colab.research.google.com/github/Quillasp/MLG-Labo05/blob/main/kmeans_answered.ipynb\" target=\"_parent\"><img src=\"https://colab.research.google.com/assets/colab-badge.svg\" alt=\"Open In Colab\"/></a>"
      ]
    },
    {
      "cell_type": "markdown",
      "metadata": {
        "id": "La2Gl3QUWs2d"
      },
      "source": [
        "# MLG: Unsupervised learning (Part 1)\n",
        "\n",
        "Throughout the laboratories, questions that you should try to answer are highlighted as follows :\n",
        "\n",
        "<p style=\"background-color:#006600; color:#fff;padding:5px; font-weight:bold\">Q: Try to answer these questions / run the proposed experiments for your own comprehension. </p>\n",
        "\n",
        "\n",
        "## Introduction\n",
        "\n",
        "In this laboratory, we will work with a different type of problem called unsupervised learning.\n",
        "When we talk about unsupervised learning, it means that we are trying to find **hidden structure** in unlabeled data. Therefore, no simple measure exists to evaluate a potential solution.\n",
        "\n",
        "\n",
        "We will focus on a commonly used algorithm to solve this kind of problem called \"Self Organizing Maps\".\n",
        "As you saw in the theoretical part of the course, the main advantage of this algorithm is its topological ordering, which means that the maps can be visualized as **elastic grids**. Therefore they can be easily plotted.\n",
        "\n",
        "## Pre-requisites\n",
        "\n",
        "For the following exercises, you could need several new packages. Install them as follows:\n",
        "\n",
        "    !pip install name_of_the_missing_module\n",
        "    \n",
        "After these, you should be able to import them."
      ]
    },
    {
      "cell_type": "markdown",
      "metadata": {
        "id": "s-nVyuAqWs2h"
      },
      "source": [
        "## Exercise 1 : Animals database clustering with the K-Means algorithm\n",
        "\n",
        "### Dataset information\n",
        "\n",
        "Each row is an animal, and it is constructed by the presence (1) or absence (0) of 13 different attributes. You can look at the plot hereafter, or generate it yourself with this code:"
      ]
    },
    {
      "cell_type": "code",
      "execution_count": 2,
      "metadata": {
        "id": "uM0owxUxWs2i"
      },
      "outputs": [],
      "source": [
        "import numpy as np\n",
        "import pandas as pd\n",
        "import matplotlib.pyplot as pl\n",
        "from matplotlib import cm\n",
        "%matplotlib inline"
      ]
    },
    {
      "cell_type": "code",
      "execution_count": 14,
      "metadata": {
        "id": "ZitDRMAEWs2j"
      },
      "outputs": [],
      "source": [
        "matrix = np.array([[1,0,0,1,0,0,0,0,1,0,0,1,0],\n",
        "                   [1,0,0,1,0,0,0,0,1,0,0,0,0],\n",
        "                   [1,0,0,1,0,0,0,0,1,0,0,0,1],\n",
        "                   [1,0,0,1,0,0,0,1,1,0,0,1,1],\n",
        "                   [1,0,0,1,0,0,0,0,1,1,0,1,0],\n",
        "                   [1,0,0,1,0,0,0,0,1,1,0,1,0],\n",
        "                   [0,1,0,1,0,0,0,0,1,1,0,1,0],\n",
        "                   [0,1,0,0,1,1,0,0,0,1,0,0,0],\n",
        "                   [0,1,0,0,1,1,0,0,0,0,1,0,0],\n",
        "                   [0,1,0,0,1,1,0,1,0,1,1,0,0],\n",
        "                   [1,0,0,0,1,1,0,0,0,1,0,0,0],\n",
        "                   [0,0,1,0,1,1,0,0,0,1,1,0,0],\n",
        "                   [0,0,1,0,1,1,0,1,0,1,1,0,0],\n",
        "                   [0,0,1,0,1,1,1,1,0,0,1,0,0],\n",
        "                   [0,0,1,0,1,1,1,1,0,0,1,0,0],\n",
        "                   [0,0,1,0,1,1,1,0,0,0,0,0,0]])\n",
        "\n",
        "animals = pd.DataFrame(matrix.astype(float),columns=['small', 'medium', 'big', '2legs', '4legs', 'hair', 'hooves',\n",
        "                                'mane', 'feathers', 'hunt', 'run', 'fly', 'swim'])\n",
        "\n",
        "animals.index = ['dove', 'hen', 'duck', 'goose', 'owl', 'hawk', 'eagle', 'fox',\n",
        "                 'dog', 'wolf', 'cat', 'tiger', 'lion', 'horse', 'zebra', 'cow']"
      ]
    },
    {
      "cell_type": "code",
      "execution_count": 15,
      "metadata": {
        "id": "hcPtwgHrWs2k",
        "outputId": "f727b93d-e0b6-4c09-9fbb-e4342262bffa",
        "colab": {
          "base_uri": "https://localhost:8080/",
          "height": 639
        }
      },
      "outputs": [
        {
          "output_type": "display_data",
          "data": {
            "text/plain": [
              "<Figure size 576x720 with 1 Axes>"
            ],
            "image/png": "[encoded data removed]"
          },
          "metadata": {
            "needs_background": "light"
          }
        }
      ],
      "source": [
        "pl.figure(figsize=(8,10))\n",
        "pl.xticks(np.arange(matrix.shape[1]), animals.columns, rotation=90)\n",
        "pl.yticks(np.arange(matrix.shape[0]), animals.index)\n",
        "pl.title('Animals')\n",
        "_ = pl.imshow(matrix, interpolation='nearest', cmap=cm.binary)"
      ]
    },
    {
      "cell_type": "markdown",
      "metadata": {
        "id": "mMsxKBEkWs2l"
      },
      "source": [
        "These are features on which we will run our K-Means algorithm in order to find an inherent data structure, or similarities between samples."
      ]
    },
    {
      "cell_type": "markdown",
      "metadata": {
        "id": "zCJ54YSpWs2m"
      },
      "source": [
        "### Building the model"
      ]
    },
    {
      "cell_type": "code",
      "execution_count": 5,
      "metadata": {
        "id": "Uechc5POWs2m"
      },
      "outputs": [],
      "source": [
        "from sklearn.cluster import KMeans"
      ]
    },
    {
      "cell_type": "code",
      "execution_count": 6,
      "metadata": {
        "id": "Ct0-1H_4Ws2n"
      },
      "outputs": [],
      "source": [
        "K = 4\n",
        "kmeans = KMeans(n_clusters=K, init='k-means++', n_init=10).fit(animals.values)"
      ]
    },
    {
      "cell_type": "code",
      "execution_count": 7,
      "metadata": {
        "id": "CChHuvBFWs2n",
        "outputId": "640164c1-48b0-49d4-d142-714fab3aa94c",
        "colab": {
          "base_uri": "https://localhost:8080/"
        }
      },
      "outputs": [
        {
          "output_type": "stream",
          "name": "stdout",
          "text": [
            "Index(['dove', 'hen', 'duck', 'goose', 'owl', 'hawk', 'eagle', 'fox', 'dog',\n",
            "       'wolf', 'cat', 'tiger', 'lion', 'horse', 'zebra', 'cow'],\n",
            "      dtype='object')\n",
            "[1 1 1 1 3 3 3 2 2 2 2 0 0 0 0 0]\n"
          ]
        }
      ],
      "source": [
        "print(animals.index)\n",
        "print(kmeans.labels_)"
      ]
    },
    {
      "cell_type": "code",
      "execution_count": 8,
      "metadata": {
        "id": "6uieLGV1Ws2o",
        "outputId": "556cd6ca-f39d-4aef-ba7b-b7006db88768",
        "colab": {
          "base_uri": "https://localhost:8080/"
        }
      },
      "outputs": [
        {
          "output_type": "stream",
          "name": "stdout",
          "text": [
            "Group 0\n",
            "    tiger lion horse zebra cow \n",
            "Group 1\n",
            "    dove hen duck goose \n",
            "Group 2\n",
            "    fox dog wolf cat \n",
            "Group 3\n",
            "    owl hawk eagle \n"
          ]
        }
      ],
      "source": [
        "for g in range(K):\n",
        "    print(f'Group {g}')\n",
        "    print('    ', end='')\n",
        "    for a in animals.index[kmeans.labels_ == g]:\n",
        "        print(a, end=' ')\n",
        "    print()"
      ]
    },
    {
      "cell_type": "markdown",
      "metadata": {
        "id": "02mSkEATWs2o"
      },
      "source": [
        "<p style=\"background-color:#006600; color:#fff;padding:5px; font-weight:bold\">Q: Observe the animals that are grouped together by K-Means and try different numbers of clusters: K=2,3,4, etc. </p>\n",
        "\n",
        "<p style=\"background-color:#006600; color:#fff;padding:5px; font-weight:bold\">Q: n_init is a parameter that automatically asks K-means to try different cluster initializations and selects the best result. init='random' asks K-means to randomly initialize the cluster centroids. Please, try init=’k-means++’ and modify n_init to 10 for example and observe the results. </p>"
      ]
    },
    {
      "cell_type": "markdown",
      "metadata": {
        "id": "hbuWLfSPWs2p"
      },
      "source": [
        "## Exercice 2 : Wine database clustering with K-Means\n",
        "\n",
        "Now, use the K-means algorithm to separate the three types of wine in the Wine dataset (K = 3)."
      ]
    },
    {
      "cell_type": "code",
      "execution_count": 51,
      "metadata": {
        "id": "6n3jjouUWs2p"
      },
      "outputs": [],
      "source": [
        "from sklearn.datasets import load_wine\n",
        "from sklearn.preprocessing import StandardScaler"
      ]
    },
    {
      "cell_type": "code",
      "execution_count": 76,
      "metadata": {
        "id": "4xgwNoX-Ws2q"
      },
      "outputs": [],
      "source": [
        "data = load_wine()\n",
        "scaler = StandardScaler()\n",
        "\n",
        "features = data.data\n",
        "classes = data.target\n",
        "\n",
        "classes_names = data.target_names\n",
        "\n",
        "scaler.fit(features)\n",
        "StandardScaler(copy = True, with_mean=True, with_std=True)\n",
        "features_scaled = scaler.transform(features)"
      ]
    },
    {
      "cell_type": "code",
      "execution_count": 77,
      "metadata": {
        "id": "rDhKC1shWs2q"
      },
      "outputs": [],
      "source": [
        "kmeans = KMeans(n_clusters=3, n_init=10, init='k-means++').fit(features_scaled)"
      ]
    },
    {
      "cell_type": "code",
      "execution_count": 79,
      "metadata": {
        "id": "XrkJtZXeWs2q",
        "outputId": "b9daf6a8-60e1-4033-c40f-ac2e2cf65fda",
        "colab": {
          "base_uri": "https://localhost:8080/"
        }
      },
      "outputs": [
        {
          "output_type": "stream",
          "name": "stdout",
          "text": [
            "[0 0 0 0 0 0 0 0 0 0 0 0 0 0 0 0 0 0 0 0 0 0 0 0 0 0 0 0 0 0 0 0 0 0 0 0 0\n",
            " 0 0 0 0 0 0 0 0 0 0 0 0 0 0 0 0 0 0 0 0 0 0 2 2 1 2 2 2 2 2 2 2 2 2 2 2 0\n",
            " 2 2 2 2 2 2 2 2 2 1 2 2 2 2 2 2 2 2 2 2 2 0 2 2 2 2 2 2 2 2 2 2 2 2 2 2 2\n",
            " 2 2 2 2 2 2 2 1 2 2 0 2 2 2 2 2 2 2 2 1 1 1 1 1 1 1 1 1 1 1 1 1 1 1 1 1 1\n",
            " 1 1 1 1 1 1 1 1 1 1 1 1 1 1 1 1 1 1 1 1 1 1 1 1 1 1 1 1 1 1]\n"
          ]
        }
      ],
      "source": [
        "print(kmeans.labels_)"
      ]
    },
    {
      "cell_type": "markdown",
      "metadata": {
        "id": "Sk7Aufe5Ws2q"
      },
      "source": [
        "<p style=\"background-color:#006600; color:#fff;padding:5px; font-weight:bold\">Q: Observe the observations that are grouped together by K-Means. </p>\n",
        "\n",
        "<p style=\"background-color:#006600; color:#fff;padding:5px; font-weight:bold\">Q: Count the number of \"bottles\" that are correctly grouped. What is the accuracy of this unsupervised classification? </p>\n",
        "\n",
        "<p style=\"background-color:#006600; color:#fff;padding:5px; font-weight:bold\">Q: Try to improve the performance of the classification. Does normalizing the data increases the accuracy? Does selecting a reduced number of features improves the accuracy? Why?. </p>"
      ]
    },
    {
      "cell_type": "code",
      "execution_count": 82,
      "metadata": {
        "id": "Cspz2570Ws2r",
        "outputId": "9039cfae-3ba6-4e38-8ca7-ac94561136fe",
        "colab": {
          "base_uri": "https://localhost:8080/",
          "height": 330
        }
      },
      "outputs": [
        {
          "output_type": "stream",
          "name": "stdout",
          "text": [
            "Group 0\n",
            "    0 0 0 0 0 0 0 0 0 0 0 0 0 0 0 0 0 0 0 0 0 0 0 0 0 0 0 0 0 0 0 0 0 0 0 0 0 0 0 0 0 0 0 0 0 0 0 0 0 0 0 0 0 0 0 0 0 0 0 1 1 1 \n",
            "Group 1\n",
            "    1 1 1 2 2 2 2 2 2 2 2 2 2 2 2 2 2 2 2 2 2 2 2 2 2 2 2 2 2 2 2 2 2 2 2 2 2 2 2 2 2 2 2 2 2 2 2 2 2 2 2 \n",
            "Group 2\n",
            "    1 1 1 1 1 1 1 1 1 1 1 1 1 1 1 1 1 1 1 1 1 1 1 1 1 1 1 1 1 1 1 1 1 1 1 1 1 1 1 1 1 1 1 1 1 1 1 1 1 1 1 1 1 1 1 1 1 1 1 1 1 1 1 1 1 \n",
            "basic features\n",
            "normalized features\n"
          ]
        },
        {
          "output_type": "execute_result",
          "data": {
            "text/plain": [
              "species  class_0  class_1  class_2\n",
              "labels                            \n",
              "0              0        3       48\n",
              "1              0       65        0\n",
              "2             59        3        0"
            ],
            "text/html": [
              "\n",
              "  <div id=\"df-e251e6b4-0a8e-4df5-95f0-b48ee424a8e6\">\n",
              "    <div class=\"colab-df-container\">\n",
              "      <div>\n",
              "<style scoped>\n",
              "    .dataframe tbody tr th:only-of-type {\n",
              "        vertical-align: middle;\n",
              "    }\n",
              "\n",
              "    .dataframe tbody tr th {\n",
              "        vertical-align: top;\n",
              "    }\n",
              "\n",
              "    .dataframe thead th {\n",
              "        text-align: right;\n",
              "    }\n",
              "</style>\n",
              "<table border=\"1\" class=\"dataframe\">\n",
              "  <thead>\n",
              "    <tr style=\"text-align: right;\">\n",
              "      <th>species</th>\n",
              "      <th>class_0</th>\n",
              "      <th>class_1</th>\n",
              "      <th>class_2</th>\n",
              "    </tr>\n",
              "    <tr>\n",
              "      <th>labels</th>\n",
              "      <th></th>\n",
              "      <th></th>\n",
              "      <th></th>\n",
              "    </tr>\n",
              "  </thead>\n",
              "  <tbody>\n",
              "    <tr>\n",
              "      <th>0</th>\n",
              "      <td>0</td>\n",
              "      <td>3</td>\n",
              "      <td>48</td>\n",
              "    </tr>\n",
              "    <tr>\n",
              "      <th>1</th>\n",
              "      <td>0</td>\n",
              "      <td>65</td>\n",
              "      <td>0</td>\n",
              "    </tr>\n",
              "    <tr>\n",
              "      <th>2</th>\n",
              "      <td>59</td>\n",
              "      <td>3</td>\n",
              "      <td>0</td>\n",
              "    </tr>\n",
              "  </tbody>\n",
              "</table>\n",
              "</div>\n",
              "      <button class=\"colab-df-convert\" onclick=\"convertToInteractive('df-e251e6b4-0a8e-4df5-95f0-b48ee424a8e6')\"\n",
              "              title=\"Convert this dataframe to an interactive table.\"\n",
              "              style=\"display:none;\">\n",
              "        \n",
              "  <svg xmlns=\"http://www.w3.org/2000/svg\" height=\"24px\"viewBox=\"0 0 24 24\"\n",
              "       width=\"24px\">\n",
              "    <path d=\"M0 0h24v24H0V0z\" fill=\"none\"/>\n",
              "    <path d=\"M18.56 5.44l.94 2.06.94-2.06 2.06-.94-2.06-.94-.94-2.06-.94 2.06-2.06.94zm-11 1L8.5 8.5l.94-2.06 2.06-.94-2.06-.94L8.5 2.5l-.94 2.06-2.06.94zm10 10l.94 2.06.94-2.06 2.06-.94-2.06-.94-.94-2.06-.94 2.06-2.06.94z\"/><path d=\"M17.41 7.96l-1.37-1.37c-.4-.4-.92-.59-1.43-.59-.52 0-1.04.2-1.43.59L10.3 9.45l-7.72 7.72c-.78.78-.78 2.05 0 2.83L4 21.41c.39.39.9.59 1.41.59.51 0 1.02-.2 1.41-.59l7.78-7.78 2.81-2.81c.8-.78.8-2.07 0-2.86zM5.41 20L4 18.59l7.72-7.72 1.47 1.35L5.41 20z\"/>\n",
              "  </svg>\n",
              "      </button>\n",
              "      \n",
              "  <style>\n",
              "    .colab-df-container {\n",
              "      display:flex;\n",
              "      flex-wrap:wrap;\n",
              "      gap: 12px;\n",
              "    }\n",
              "\n",
              "    .colab-df-convert {\n",
              "      background-color: #E8F0FE;\n",
              "      border: none;\n",
              "      border-radius: 50%;\n",
              "      cursor: pointer;\n",
              "      display: none;\n",
              "      fill: #1967D2;\n",
              "      height: 32px;\n",
              "      padding: 0 0 0 0;\n",
              "      width: 32px;\n",
              "    }\n",
              "\n",
              "    .colab-df-convert:hover {\n",
              "      background-color: #E2EBFA;\n",
              "      box-shadow: 0px 1px 2px rgba(60, 64, 67, 0.3), 0px 1px 3px 1px rgba(60, 64, 67, 0.15);\n",
              "      fill: #174EA6;\n",
              "    }\n",
              "\n",
              "    [theme=dark] .colab-df-convert {\n",
              "      background-color: #3B4455;\n",
              "      fill: #D2E3FC;\n",
              "    }\n",
              "\n",
              "    [theme=dark] .colab-df-convert:hover {\n",
              "      background-color: #434B5C;\n",
              "      box-shadow: 0px 1px 3px 1px rgba(0, 0, 0, 0.15);\n",
              "      filter: drop-shadow(0px 1px 2px rgba(0, 0, 0, 0.3));\n",
              "      fill: #FFFFFF;\n",
              "    }\n",
              "  </style>\n",
              "\n",
              "      <script>\n",
              "        const buttonEl =\n",
              "          document.querySelector('#df-e251e6b4-0a8e-4df5-95f0-b48ee424a8e6 button.colab-df-convert');\n",
              "        buttonEl.style.display =\n",
              "          google.colab.kernel.accessAllowed ? 'block' : 'none';\n",
              "\n",
              "        async function convertToInteractive(key) {\n",
              "          const element = document.querySelector('#df-e251e6b4-0a8e-4df5-95f0-b48ee424a8e6');\n",
              "          const dataTable =\n",
              "            await google.colab.kernel.invokeFunction('convertToInteractive',\n",
              "                                                     [key], {});\n",
              "          if (!dataTable) return;\n",
              "\n",
              "          const docLinkHtml = 'Like what you see? Visit the ' +\n",
              "            '<a target=\"_blank\" href=https://colab.research.google.com/notebooks/data_table.ipynb>data table notebook</a>'\n",
              "            + ' to learn more about interactive tables.';\n",
              "          element.innerHTML = '';\n",
              "          dataTable['output_type'] = 'display_data';\n",
              "          await google.colab.output.renderOutput(dataTable, element);\n",
              "          const docLink = document.createElement('div');\n",
              "          docLink.innerHTML = docLinkHtml;\n",
              "          element.appendChild(docLink);\n",
              "        }\n",
              "      </script>\n",
              "    </div>\n",
              "  </div>\n",
              "  "
            ]
          },
          "metadata": {},
          "execution_count": 82
        }
      ],
      "source": [
        "def species(theta):\n",
        "  if theta == 0:\n",
        "    return data.target_names[0]\n",
        "  elif theta == 1:\n",
        "    return data.target_names[1]\n",
        "  else:\n",
        "    return data.target_names[2]\n",
        "\n",
        "for g in range(3):\n",
        "    print(f'Group {g}')\n",
        "    print('    ', end='')\n",
        "    for a in classes[kmeans.labels_ == g]:\n",
        "      print(a, end=' ')\n",
        "    print()\n",
        "\n",
        "labels = kmeans.fit_predict(features_scaled)\n",
        "df = pd.DataFrame({'labels':labels})\n",
        "df[\"species\"] = [species(theta) for theta in classes]\n",
        "cross_tab2 = pd.crosstab(df[\"labels\"],df[\"species\"])\n",
        "cross_tab2"
      ]
    },
    {
      "cell_type": "markdown",
      "source": [
        "> "
      ],
      "metadata": {
        "id": "Fusa8NjtQ7EN"
      }
    },
    {
      "cell_type": "markdown",
      "source": [
        ">Count the number of \"bottles\" that are correctly grouped. What is the accuracy of this unsupervised classification? \n",
        "\n",
        "D'après la matrice de confusion qu'on a, cela fait $\\frac{46 + 50 + 29}{178} \\cdot 100 \\cong 70,22\\%$.\n",
        "\n",
        "> Does normalizing the data increases the accuracy?\n",
        "\n",
        "Oui, quand on normalise les caratéristiques, on peut voir une nette amélioration de l'exactitude (accuracy), passant de 70.22% à 96.63%. C'est parce que de base, il y a une trop grande variation des caractéristiques, il faut donc les normaliser pour permettre à KMeans de pouvoir les prendre en correctement en considération.\n",
        "\n",
        "> Does selecting a reduced number of features improves the accuracy?\n",
        "\n",
        "TODO"
      ],
      "metadata": {
        "id": "J2_G5LMLRUti"
      }
    }
  ],
  "metadata": {
    "kernelspec": {
      "display_name": "Python 3 (ipykernel)",
      "language": "python",
      "name": "python3"
    },
    "language_info": {
      "codemirror_mode": {
        "name": "ipython",
        "version": 3
      },
      "file_extension": ".py",
      "mimetype": "text/x-python",
      "name": "python",
      "nbconvert_exporter": "python",
      "pygments_lexer": "ipython3",
      "version": "3.7.11"
    },
    "colab": {
      "name": "Copie de kmeans.ipynb",
      "provenance": [],
      "include_colab_link": true
    }
  },
  "nbformat": 4,
  "nbformat_minor": 0
}